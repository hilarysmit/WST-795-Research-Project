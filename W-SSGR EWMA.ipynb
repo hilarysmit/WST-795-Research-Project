{
 "cells": [
  {
   "cell_type": "code",
   "execution_count": null,
   "metadata": {},
   "outputs": [],
   "source": [
    "import random\n",
    "\n",
    "random.seed(123)"
   ]
  },
  {
   "cell_type": "markdown",
   "metadata": {},
   "source": [
    "## IC Performance"
   ]
  },
  {
   "cell_type": "code",
   "execution_count": null,
   "metadata": {},
   "outputs": [],
   "source": [
    "import numpy as np\n",
    "import pandas\n",
    "\n",
    "# Parameters\n",
    "m = 100\n",
    "sim = 10000\n",
    "n = 5\n",
    "exp_w = (n * (n + m + 1)) / 2\n",
    "stdev_w = np.sqrt(n * m * (n + m + 1) / 12)\n",
    "lambda_ = 0.5\n",
    "Le = 1.6858\n",
    "L_SSGR =  1\n",
    "# df = 5\n",
    "df = 20\n",
    "# shape_param = 1  # Shape parameter for the gamma distribution\n",
    "shape_param = 15  # Shape parameter for the gamma distribution\n",
    "scale_param = 1  # Scale parameter for the gamma distribution\n",
    "\n",
    "# Control Limits\n",
    "LCL = exp_w - Le * stdev_w * np.sqrt(lambda_ / (2 - lambda_))\n",
    "UCL = exp_w + Le * stdev_w * np.sqrt(lambda_ / (2 - lambda_))\n",
    "\n",
    "total_runs = []\n",
    "high_run_lengths = []\n",
    "low_run_lengths = []\n",
    "previous_high_run_length = None\n",
    "previous_low_run_length = None\n",
    "for i in range(sim):\n",
    "    zi_1 = exp_w  # Phase I mean as starting EWMA value\n",
    "    # xi = np.random.normal(0, 1, m)  # Phase I data\n",
    "    # xi = np.random.standard_t(df, m)  # Phase I data t\n",
    "    xi = np.random.gamma(shape_param, scale_param, m)  # Phase I data Gamma\n",
    "    xi=(xi-shape_param)/np.sqrt(shape_param)\n",
    "    high_count = 0\n",
    "    low_count = 0\n",
    "    signaled = False\n",
    "    total_run = 0\n",
    "    while not signaled:\n",
    "        high_count += 1\n",
    "        low_count += 1\n",
    "        total_run += 1\n",
    "        # yi = np.random.normal(0, 1, n)  # Phase II data\n",
    "        # yi = np.random.standard_t(df, n)  # Phase II data t\n",
    "        yi = np.random.gamma(shape_param, scale_param, n)  # Phase II data Gamma\n",
    "        yi=(yi-shape_param)/np.sqrt(shape_param)\n",
    "        comb = np.concatenate((xi, yi))\n",
    "        ranks = np.argsort(np.argsort(comb)) + 1  # Rank calculation\n",
    "        W = ranks[-n:].sum()  # Sum of ranks for new sample\n",
    "\n",
    "        # Calculate W-EWMA\n",
    "        zi = lambda_ * W + (1 - lambda_) * zi_1\n",
    "        zi_1 = zi\n",
    "        # Check control limits and evaluate run length\n",
    "        if zi >= UCL:\n",
    "            if previous_high_run_length is None:\n",
    "                # Check if the first nonconforming group is below the threshold\n",
    "                if high_count <= L_SSGR:\n",
    "                    high_run_lengths.append(high_count)\n",
    "                    total_runs.append(total_run)\n",
    "                    signaled = True\n",
    "            elif previous_high_run_length <= L_SSGR and high_count <= L_SSGR:\n",
    "                high_run_lengths.append(high_count)\n",
    "                total_runs.append(total_run)\n",
    "                signaled = True\n",
    "\n",
    "            previous_high_run_length = high_count\n",
    "            high_count = 0  # Reset count after nonconforming group and no signal\n",
    "\n",
    "        if zi <= LCL:\n",
    "            if previous_low_run_length is None:\n",
    "                # Check if the first nonconforming group is below the threshold\n",
    "                if low_count <= L_SSGR:\n",
    "                    low_run_lengths.append(low_count)\n",
    "                    total_runs.append(total_run)\n",
    "                    signaled = True\n",
    "            elif previous_low_run_length <= L_SSGR and low_count <= L_SSGR:\n",
    "                low_run_lengths.append(low_count)\n",
    "                total_runs.append(total_run)\n",
    "                signaled = True\n",
    "\n",
    "            previous_low_run_length = low_count\n",
    "            low_count = 0  # Reset count after nonconforming group and no signal\n",
    "\n",
    "run_lengths = np.array(total_runs)\n",
    "print(f\"Mean Run Length: {run_lengths.mean()}\")\n",
    "print(f\"Standard Deviation: {run_lengths.std()}\")\n",
    "print(f\"5th Percentile: {np.percentile(run_lengths, 5)}\")\n",
    "print(f\"95th Percentile: {np.percentile(run_lengths, 95)}\")\n",
    "print(f\"Median: {np.percentile(run_lengths, 50)}\")\n"
   ]
  },
  {
   "cell_type": "markdown",
   "metadata": {},
   "source": [
    "## With Shifts"
   ]
  },
  {
   "cell_type": "code",
   "execution_count": 2,
   "metadata": {},
   "outputs": [
    {
     "name": "stdout",
     "output_type": "stream",
     "text": [
      "0.0\n"
     ]
    },
    {
     "name": "stderr",
     "output_type": "stream",
     "text": [
      "100%|██████████| 10000/10000 [01:35<00:00, 105.24it/s]\n"
     ]
    },
    {
     "name": "stdout",
     "output_type": "stream",
     "text": [
      "0.25\n"
     ]
    },
    {
     "name": "stderr",
     "output_type": "stream",
     "text": [
      "100%|██████████| 10000/10000 [00:07<00:00, 1302.31it/s]\n"
     ]
    },
    {
     "name": "stdout",
     "output_type": "stream",
     "text": [
      "0.5\n"
     ]
    },
    {
     "name": "stderr",
     "output_type": "stream",
     "text": [
      "100%|██████████| 10000/10000 [00:03<00:00, 3011.69it/s]\n"
     ]
    },
    {
     "name": "stdout",
     "output_type": "stream",
     "text": [
      "0.75\n"
     ]
    },
    {
     "name": "stderr",
     "output_type": "stream",
     "text": [
      "100%|██████████| 10000/10000 [00:02<00:00, 3853.56it/s]\n"
     ]
    },
    {
     "name": "stdout",
     "output_type": "stream",
     "text": [
      "1.0\n"
     ]
    },
    {
     "name": "stderr",
     "output_type": "stream",
     "text": [
      "100%|██████████| 10000/10000 [00:02<00:00, 4497.03it/s]\n"
     ]
    },
    {
     "name": "stdout",
     "output_type": "stream",
     "text": [
      "1.25\n"
     ]
    },
    {
     "name": "stderr",
     "output_type": "stream",
     "text": [
      "100%|██████████| 10000/10000 [00:02<00:00, 3682.57it/s]\n"
     ]
    },
    {
     "name": "stdout",
     "output_type": "stream",
     "text": [
      "1.5\n"
     ]
    },
    {
     "name": "stderr",
     "output_type": "stream",
     "text": [
      "100%|██████████| 10000/10000 [00:02<00:00, 3732.81it/s]\n"
     ]
    },
    {
     "name": "stdout",
     "output_type": "stream",
     "text": [
      "1.75\n"
     ]
    },
    {
     "name": "stderr",
     "output_type": "stream",
     "text": [
      "100%|██████████| 10000/10000 [00:02<00:00, 4332.57it/s]\n"
     ]
    },
    {
     "name": "stdout",
     "output_type": "stream",
     "text": [
      "2.0\n"
     ]
    },
    {
     "name": "stderr",
     "output_type": "stream",
     "text": [
      "100%|██████████| 10000/10000 [00:02<00:00, 4917.89it/s]\n"
     ]
    },
    {
     "name": "stdout",
     "output_type": "stream",
     "text": [
      "2.25\n"
     ]
    },
    {
     "name": "stderr",
     "output_type": "stream",
     "text": [
      "100%|██████████| 10000/10000 [00:02<00:00, 4895.13it/s]\n"
     ]
    },
    {
     "name": "stdout",
     "output_type": "stream",
     "text": [
      "2.5\n"
     ]
    },
    {
     "name": "stderr",
     "output_type": "stream",
     "text": [
      "100%|██████████| 10000/10000 [00:02<00:00, 4784.97it/s]\n"
     ]
    },
    {
     "name": "stdout",
     "output_type": "stream",
     "text": [
      "2.75\n"
     ]
    },
    {
     "name": "stderr",
     "output_type": "stream",
     "text": [
      "100%|██████████| 10000/10000 [00:01<00:00, 5271.79it/s]\n"
     ]
    },
    {
     "name": "stdout",
     "output_type": "stream",
     "text": [
      "3.0\n"
     ]
    },
    {
     "name": "stderr",
     "output_type": "stream",
     "text": [
      "100%|██████████| 10000/10000 [00:01<00:00, 5227.00it/s]\n"
     ]
    },
    {
     "data": {
      "text/html": [
       "<div>\n",
       "<style scoped>\n",
       "    .dataframe tbody tr th:only-of-type {\n",
       "        vertical-align: middle;\n",
       "    }\n",
       "\n",
       "    .dataframe tbody tr th {\n",
       "        vertical-align: top;\n",
       "    }\n",
       "\n",
       "    .dataframe thead th {\n",
       "        text-align: right;\n",
       "    }\n",
       "</style>\n",
       "<table border=\"1\" class=\"dataframe\">\n",
       "  <thead>\n",
       "    <tr style=\"text-align: right;\">\n",
       "      <th></th>\n",
       "      <th>Delta</th>\n",
       "      <th>ARL</th>\n",
       "      <th>SDRL</th>\n",
       "      <th>MDRL</th>\n",
       "    </tr>\n",
       "  </thead>\n",
       "  <tbody>\n",
       "    <tr>\n",
       "      <th>0</th>\n",
       "      <td>0.00</td>\n",
       "      <td>209.5299</td>\n",
       "      <td>304.027319</td>\n",
       "      <td>99.0</td>\n",
       "    </tr>\n",
       "    <tr>\n",
       "      <th>1</th>\n",
       "      <td>0.25</td>\n",
       "      <td>18.8127</td>\n",
       "      <td>49.777085</td>\n",
       "      <td>13.0</td>\n",
       "    </tr>\n",
       "    <tr>\n",
       "      <th>2</th>\n",
       "      <td>0.50</td>\n",
       "      <td>8.1562</td>\n",
       "      <td>1.952281</td>\n",
       "      <td>8.0</td>\n",
       "    </tr>\n",
       "    <tr>\n",
       "      <th>3</th>\n",
       "      <td>0.75</td>\n",
       "      <td>6.4115</td>\n",
       "      <td>0.855668</td>\n",
       "      <td>6.0</td>\n",
       "    </tr>\n",
       "    <tr>\n",
       "      <th>4</th>\n",
       "      <td>1.00</td>\n",
       "      <td>5.6614</td>\n",
       "      <td>0.595777</td>\n",
       "      <td>6.0</td>\n",
       "    </tr>\n",
       "    <tr>\n",
       "      <th>5</th>\n",
       "      <td>1.25</td>\n",
       "      <td>5.1942</td>\n",
       "      <td>0.400857</td>\n",
       "      <td>5.0</td>\n",
       "    </tr>\n",
       "    <tr>\n",
       "      <th>6</th>\n",
       "      <td>1.50</td>\n",
       "      <td>5.0318</td>\n",
       "      <td>0.177732</td>\n",
       "      <td>5.0</td>\n",
       "    </tr>\n",
       "    <tr>\n",
       "      <th>7</th>\n",
       "      <td>1.75</td>\n",
       "      <td>5.0008</td>\n",
       "      <td>0.059995</td>\n",
       "      <td>5.0</td>\n",
       "    </tr>\n",
       "    <tr>\n",
       "      <th>8</th>\n",
       "      <td>2.00</td>\n",
       "      <td>4.9887</td>\n",
       "      <td>0.105699</td>\n",
       "      <td>5.0</td>\n",
       "    </tr>\n",
       "    <tr>\n",
       "      <th>9</th>\n",
       "      <td>2.25</td>\n",
       "      <td>4.9559</td>\n",
       "      <td>0.205804</td>\n",
       "      <td>5.0</td>\n",
       "    </tr>\n",
       "    <tr>\n",
       "      <th>10</th>\n",
       "      <td>2.50</td>\n",
       "      <td>4.8859</td>\n",
       "      <td>0.317933</td>\n",
       "      <td>5.0</td>\n",
       "    </tr>\n",
       "    <tr>\n",
       "      <th>11</th>\n",
       "      <td>2.75</td>\n",
       "      <td>4.7438</td>\n",
       "      <td>0.436534</td>\n",
       "      <td>5.0</td>\n",
       "    </tr>\n",
       "    <tr>\n",
       "      <th>12</th>\n",
       "      <td>3.00</td>\n",
       "      <td>4.5821</td>\n",
       "      <td>0.493214</td>\n",
       "      <td>5.0</td>\n",
       "    </tr>\n",
       "  </tbody>\n",
       "</table>\n",
       "</div>"
      ],
      "text/plain": [
       "    Delta       ARL        SDRL  MDRL\n",
       "0    0.00  209.5299  304.027319  99.0\n",
       "1    0.25   18.8127   49.777085  13.0\n",
       "2    0.50    8.1562    1.952281   8.0\n",
       "3    0.75    6.4115    0.855668   6.0\n",
       "4    1.00    5.6614    0.595777   6.0\n",
       "5    1.25    5.1942    0.400857   5.0\n",
       "6    1.50    5.0318    0.177732   5.0\n",
       "7    1.75    5.0008    0.059995   5.0\n",
       "8    2.00    4.9887    0.105699   5.0\n",
       "9    2.25    4.9559    0.205804   5.0\n",
       "10   2.50    4.8859    0.317933   5.0\n",
       "11   2.75    4.7438    0.436534   5.0\n",
       "12   3.00    4.5821    0.493214   5.0"
      ]
     },
     "execution_count": 2,
     "metadata": {},
     "output_type": "execute_result"
    }
   ],
   "source": [
    "import numpy as np\n",
    "import pandas as pd\n",
    "from tqdm import tqdm\n",
    "np.random.seed(123)\n",
    "# Parameters\n",
    "m = 100\n",
    "sim = 10000\n",
    "n = 5\n",
    "exp_w = (n * (n + m + 1)) / 2\n",
    "stdev_w = np.sqrt(n * m * (n + m + 1) / 12)\n",
    "lambda_ = 0.05\n",
    "Le = 2.195\n",
    "L_SSGR =  1\n",
    "# df = 5\n",
    "df = 20\n",
    "shape_param = 1  # Shape parameter for the gamma distribution\n",
    "# shape_param = 15  # Shape parameter for the gamma distribution\n",
    "scale_param = 1  # Scale parameter for the gamma distribution\n",
    "# Control Limits\n",
    "LCL = exp_w - Le * stdev_w * np.sqrt(lambda_ / (2 - lambda_))\n",
    "UCL = exp_w + Le * stdev_w * np.sqrt(lambda_ / (2 - lambda_))\n",
    "\n",
    "# Simulating Phase I and Phase II\n",
    "\n",
    "# Delta values\n",
    "deltas = np.arange(0, 3.25, 0.25)\n",
    "\n",
    "# DataFrame to store results\n",
    "results = pd.DataFrame(columns=['Delta', 'ARL', 'SDRL', 'MDRL'])\n",
    "for delta in deltas:\n",
    "    print(delta)\n",
    "    high_run_lengths = []\n",
    "    low_run_lengths = []\n",
    "    previous_high_run_length = None\n",
    "    previous_low_run_length = None\n",
    "    total_runs = []\n",
    "    for i in tqdm(range(sim)):\n",
    "        zi_1 = exp_w  # Phase I mean as starting EWMA value\n",
    "        # xi = np.random.normal(0, 1, m)  # Phase I data Normal\n",
    "        # xi = np.random.standard_t(df, m)  # Phase I data t\n",
    "        xi = np.random.gamma(shape_param, scale_param, m)  # Phase I data Gamma\n",
    "        xi=(xi-shape_param)/np.sqrt(shape_param)\n",
    "        high_count = 0\n",
    "        low_count = 0\n",
    "        signaled = False\n",
    "        total_run = 0\n",
    "        while not signaled:\n",
    "            high_count += 1\n",
    "            low_count += 1\n",
    "            total_run += 1\n",
    "            # yi = np.random.normal(delta, 1, n)  # Phase II data\n",
    "            # yi = np.random.standard_t(df, n) + delta  # Phase II data t\n",
    "            y1 = np.random.gamma(shape_param, scale_param, n)  # Phase II data Gamma\n",
    "            yi = (y1 - shape_param) / np.sqrt(shape_param) + (delta)\n",
    "            comb = np.concatenate((xi, yi))\n",
    "            ranks = np.argsort(np.argsort(comb)) + 1  # Rank calculation\n",
    "            W = ranks[-n:].sum()  # Sum of ranks for new sample\n",
    "\n",
    "            # Calculate W-EWMA\n",
    "            zi = lambda_ * W + (1 - lambda_) * zi_1\n",
    "            zi_1 = zi\n",
    "            # Check control limits and evaluate run length\n",
    "            if zi >= UCL:\n",
    "                if previous_high_run_length is None:\n",
    "                    # Check if the first nonconforming group is below the threshold\n",
    "                    if high_count <= L_SSGR:\n",
    "                        high_run_lengths.append(high_count)\n",
    "                        total_runs.append(total_run)\n",
    "                        signaled = True\n",
    "                elif previous_high_run_length <= L_SSGR and high_count <= L_SSGR:\n",
    "                    high_run_lengths.append(high_count)\n",
    "                    total_runs.append(total_run)\n",
    "                    signaled = True\n",
    "\n",
    "                previous_high_run_length = high_count\n",
    "                high_count = 0  # Reset count after nonconforming group and no signal\n",
    "\n",
    "            if zi <= LCL:\n",
    "                if previous_low_run_length is None:\n",
    "                    # Check if the first nonconforming group is below the threshold\n",
    "                    if low_count <= L_SSGR:\n",
    "                        low_run_lengths.append(low_count)\n",
    "                        total_runs.append(total_run)\n",
    "                        signaled = True\n",
    "                elif previous_low_run_length <= L_SSGR and low_count <= L_SSGR:\n",
    "                    low_run_lengths.append(low_count)\n",
    "                    total_runs.append(total_run)\n",
    "                    signaled = True\n",
    "\n",
    "                previous_low_run_length = low_count\n",
    "                low_count = 0  # Reset count after nonconforming group and no signal\n",
    "\n",
    "    run_lengths = np.array(total_runs)\n",
    "    ARL = run_lengths.mean()\n",
    "    SDRL = run_lengths.std()\n",
    "    MDRL = np.percentile(run_lengths, 50)\n",
    "\n",
    "    # Append to results\n",
    "    results_row = pd.DataFrame({'Delta': [delta], 'ARL': [ARL], 'SDRL': [SDRL], 'MDRL': [MDRL]})\n",
    "    results = pd.concat([results, results_row], ignore_index=True)\n",
    "\n",
    "results\n"
   ]
  },
  {
   "cell_type": "markdown",
   "metadata": {},
   "source": [
    "# Multiple Comparison"
   ]
  },
  {
   "cell_type": "code",
   "execution_count": 7,
   "metadata": {},
   "outputs": [
    {
     "name": "stdout",
     "output_type": "stream",
     "text": [
      "Delta: 0.0, Lambda: 0.05\n"
     ]
    },
    {
     "name": "stderr",
     "output_type": "stream",
     "text": [
      "100%|██████████| 10000/10000 [01:18<00:00, 126.73it/s]\n"
     ]
    },
    {
     "name": "stdout",
     "output_type": "stream",
     "text": [
      "Delta: 0.25, Lambda: 0.05\n"
     ]
    },
    {
     "name": "stderr",
     "output_type": "stream",
     "text": [
      "100%|██████████| 10000/10000 [00:14<00:00, 677.66it/s]\n"
     ]
    },
    {
     "name": "stdout",
     "output_type": "stream",
     "text": [
      "Delta: 0.5, Lambda: 0.05\n"
     ]
    },
    {
     "name": "stderr",
     "output_type": "stream",
     "text": [
      "100%|██████████| 10000/10000 [00:04<00:00, 2262.24it/s]\n"
     ]
    },
    {
     "name": "stdout",
     "output_type": "stream",
     "text": [
      "Delta: 0.75, Lambda: 0.05\n"
     ]
    },
    {
     "name": "stderr",
     "output_type": "stream",
     "text": [
      "100%|██████████| 10000/10000 [00:03<00:00, 3089.52it/s]\n"
     ]
    },
    {
     "name": "stdout",
     "output_type": "stream",
     "text": [
      "Delta: 1.0, Lambda: 0.05\n"
     ]
    },
    {
     "name": "stderr",
     "output_type": "stream",
     "text": [
      "100%|██████████| 10000/10000 [00:02<00:00, 4251.01it/s]\n"
     ]
    },
    {
     "name": "stdout",
     "output_type": "stream",
     "text": [
      "Delta: 1.25, Lambda: 0.05\n"
     ]
    },
    {
     "name": "stderr",
     "output_type": "stream",
     "text": [
      "100%|██████████| 10000/10000 [00:01<00:00, 5251.94it/s]\n"
     ]
    },
    {
     "name": "stdout",
     "output_type": "stream",
     "text": [
      "Delta: 1.5, Lambda: 0.05\n"
     ]
    },
    {
     "name": "stderr",
     "output_type": "stream",
     "text": [
      "100%|██████████| 10000/10000 [00:01<00:00, 6896.12it/s]\n"
     ]
    },
    {
     "name": "stdout",
     "output_type": "stream",
     "text": [
      "Delta: 1.75, Lambda: 0.05\n"
     ]
    },
    {
     "name": "stderr",
     "output_type": "stream",
     "text": [
      "100%|██████████| 10000/10000 [00:01<00:00, 7968.65it/s]\n"
     ]
    },
    {
     "name": "stdout",
     "output_type": "stream",
     "text": [
      "Delta: 2.0, Lambda: 0.05\n"
     ]
    },
    {
     "name": "stderr",
     "output_type": "stream",
     "text": [
      "100%|██████████| 10000/10000 [00:01<00:00, 7944.04it/s]\n"
     ]
    },
    {
     "name": "stdout",
     "output_type": "stream",
     "text": [
      "Delta: 2.25, Lambda: 0.05\n"
     ]
    },
    {
     "name": "stderr",
     "output_type": "stream",
     "text": [
      "100%|██████████| 10000/10000 [00:01<00:00, 8512.55it/s]\n"
     ]
    },
    {
     "name": "stdout",
     "output_type": "stream",
     "text": [
      "Delta: 2.5, Lambda: 0.05\n"
     ]
    },
    {
     "name": "stderr",
     "output_type": "stream",
     "text": [
      "100%|██████████| 10000/10000 [00:01<00:00, 8853.82it/s]\n"
     ]
    },
    {
     "name": "stdout",
     "output_type": "stream",
     "text": [
      "Delta: 2.75, Lambda: 0.05\n"
     ]
    },
    {
     "name": "stderr",
     "output_type": "stream",
     "text": [
      "100%|██████████| 10000/10000 [00:01<00:00, 9336.70it/s]\n"
     ]
    },
    {
     "name": "stdout",
     "output_type": "stream",
     "text": [
      "Delta: 3.0, Lambda: 0.05\n"
     ]
    },
    {
     "name": "stderr",
     "output_type": "stream",
     "text": [
      "100%|██████████| 10000/10000 [00:01<00:00, 9810.61it/s]\n"
     ]
    },
    {
     "name": "stdout",
     "output_type": "stream",
     "text": [
      "Delta: 0.0, Lambda: 0.5\n"
     ]
    },
    {
     "name": "stderr",
     "output_type": "stream",
     "text": [
      "100%|██████████| 10000/10000 [01:07<00:00, 147.93it/s]\n"
     ]
    },
    {
     "name": "stdout",
     "output_type": "stream",
     "text": [
      "Delta: 0.25, Lambda: 0.5\n"
     ]
    },
    {
     "name": "stderr",
     "output_type": "stream",
     "text": [
      "100%|██████████| 10000/10000 [00:20<00:00, 482.71it/s]\n"
     ]
    },
    {
     "name": "stdout",
     "output_type": "stream",
     "text": [
      "Delta: 0.5, Lambda: 0.5\n"
     ]
    },
    {
     "name": "stderr",
     "output_type": "stream",
     "text": [
      "100%|██████████| 10000/10000 [00:03<00:00, 3189.48it/s]\n"
     ]
    },
    {
     "name": "stdout",
     "output_type": "stream",
     "text": [
      "Delta: 0.75, Lambda: 0.5\n"
     ]
    },
    {
     "name": "stderr",
     "output_type": "stream",
     "text": [
      "100%|██████████| 10000/10000 [00:01<00:00, 8004.73it/s]\n"
     ]
    },
    {
     "name": "stdout",
     "output_type": "stream",
     "text": [
      "Delta: 1.0, Lambda: 0.5\n"
     ]
    },
    {
     "name": "stderr",
     "output_type": "stream",
     "text": [
      "100%|██████████| 10000/10000 [00:00<00:00, 12522.70it/s]\n"
     ]
    },
    {
     "name": "stdout",
     "output_type": "stream",
     "text": [
      "Delta: 1.25, Lambda: 0.5\n"
     ]
    },
    {
     "name": "stderr",
     "output_type": "stream",
     "text": [
      "100%|██████████| 10000/10000 [00:00<00:00, 15858.62it/s]\n"
     ]
    },
    {
     "name": "stdout",
     "output_type": "stream",
     "text": [
      "Delta: 1.5, Lambda: 0.5\n"
     ]
    },
    {
     "name": "stderr",
     "output_type": "stream",
     "text": [
      "100%|██████████| 10000/10000 [00:00<00:00, 18564.03it/s]\n"
     ]
    },
    {
     "name": "stdout",
     "output_type": "stream",
     "text": [
      "Delta: 1.75, Lambda: 0.5\n"
     ]
    },
    {
     "name": "stderr",
     "output_type": "stream",
     "text": [
      "100%|██████████| 10000/10000 [00:00<00:00, 19949.23it/s]\n"
     ]
    },
    {
     "name": "stdout",
     "output_type": "stream",
     "text": [
      "Delta: 2.0, Lambda: 0.5\n"
     ]
    },
    {
     "name": "stderr",
     "output_type": "stream",
     "text": [
      "100%|██████████| 10000/10000 [00:00<00:00, 17538.97it/s]\n"
     ]
    },
    {
     "name": "stdout",
     "output_type": "stream",
     "text": [
      "Delta: 2.25, Lambda: 0.5\n"
     ]
    },
    {
     "name": "stderr",
     "output_type": "stream",
     "text": [
      "100%|██████████| 10000/10000 [00:00<00:00, 20247.92it/s]\n"
     ]
    },
    {
     "name": "stdout",
     "output_type": "stream",
     "text": [
      "Delta: 2.5, Lambda: 0.5\n"
     ]
    },
    {
     "name": "stderr",
     "output_type": "stream",
     "text": [
      "100%|██████████| 10000/10000 [00:00<00:00, 21218.29it/s]\n"
     ]
    },
    {
     "name": "stdout",
     "output_type": "stream",
     "text": [
      "Delta: 2.75, Lambda: 0.5\n"
     ]
    },
    {
     "name": "stderr",
     "output_type": "stream",
     "text": [
      "100%|██████████| 10000/10000 [00:00<00:00, 21774.53it/s]\n"
     ]
    },
    {
     "name": "stdout",
     "output_type": "stream",
     "text": [
      "Delta: 3.0, Lambda: 0.5\n"
     ]
    },
    {
     "name": "stderr",
     "output_type": "stream",
     "text": [
      "100%|██████████| 10000/10000 [00:00<00:00, 22014.03it/s]\n"
     ]
    },
    {
     "data": {
      "text/html": [
       "<div>\n",
       "<style scoped>\n",
       "    .dataframe tbody tr th:only-of-type {\n",
       "        vertical-align: middle;\n",
       "    }\n",
       "\n",
       "    .dataframe tbody tr th {\n",
       "        vertical-align: top;\n",
       "    }\n",
       "\n",
       "    .dataframe thead th {\n",
       "        text-align: right;\n",
       "    }\n",
       "</style>\n",
       "<table border=\"1\" class=\"dataframe\">\n",
       "  <thead>\n",
       "    <tr style=\"text-align: right;\">\n",
       "      <th></th>\n",
       "      <th>Delta</th>\n",
       "      <th>ARL</th>\n",
       "    </tr>\n",
       "  </thead>\n",
       "  <tbody>\n",
       "    <tr>\n",
       "      <th>0</th>\n",
       "      <td>0.00</td>\n",
       "      <td>(198.28, 198.10)</td>\n",
       "    </tr>\n",
       "    <tr>\n",
       "      <th>1</th>\n",
       "      <td>0.25</td>\n",
       "      <td>(42.69, 58.32)</td>\n",
       "    </tr>\n",
       "    <tr>\n",
       "      <th>2</th>\n",
       "      <td>0.50</td>\n",
       "      <td>(11.66, 7.90)</td>\n",
       "    </tr>\n",
       "    <tr>\n",
       "      <th>3</th>\n",
       "      <td>0.75</td>\n",
       "      <td>(7.84, 2.91)</td>\n",
       "    </tr>\n",
       "    <tr>\n",
       "      <th>4</th>\n",
       "      <td>1.00</td>\n",
       "      <td>(6.18, 1.76)</td>\n",
       "    </tr>\n",
       "    <tr>\n",
       "      <th>5</th>\n",
       "      <td>1.25</td>\n",
       "      <td>(4.89, 1.36)</td>\n",
       "    </tr>\n",
       "    <tr>\n",
       "      <th>6</th>\n",
       "      <td>1.50</td>\n",
       "      <td>(3.76, 1.15)</td>\n",
       "    </tr>\n",
       "    <tr>\n",
       "      <th>7</th>\n",
       "      <td>1.75</td>\n",
       "      <td>(3.17, 1.05)</td>\n",
       "    </tr>\n",
       "    <tr>\n",
       "      <th>8</th>\n",
       "      <td>2.00</td>\n",
       "      <td>(3.00, 1.01)</td>\n",
       "    </tr>\n",
       "    <tr>\n",
       "      <th>9</th>\n",
       "      <td>2.25</td>\n",
       "      <td>(2.96, 1.00)</td>\n",
       "    </tr>\n",
       "    <tr>\n",
       "      <th>10</th>\n",
       "      <td>2.50</td>\n",
       "      <td>(2.88, 1.00)</td>\n",
       "    </tr>\n",
       "    <tr>\n",
       "      <th>11</th>\n",
       "      <td>2.75</td>\n",
       "      <td>(2.73, 1.00)</td>\n",
       "    </tr>\n",
       "    <tr>\n",
       "      <th>12</th>\n",
       "      <td>3.00</td>\n",
       "      <td>(2.51, 1.00)</td>\n",
       "    </tr>\n",
       "  </tbody>\n",
       "</table>\n",
       "</div>"
      ],
      "text/plain": [
       "    Delta               ARL\n",
       "0    0.00  (198.28, 198.10)\n",
       "1    0.25    (42.69, 58.32)\n",
       "2    0.50     (11.66, 7.90)\n",
       "3    0.75      (7.84, 2.91)\n",
       "4    1.00      (6.18, 1.76)\n",
       "5    1.25      (4.89, 1.36)\n",
       "6    1.50      (3.76, 1.15)\n",
       "7    1.75      (3.17, 1.05)\n",
       "8    2.00      (3.00, 1.01)\n",
       "9    2.25      (2.96, 1.00)\n",
       "10   2.50      (2.88, 1.00)\n",
       "11   2.75      (2.73, 1.00)\n",
       "12   3.00      (2.51, 1.00)"
      ]
     },
     "execution_count": 7,
     "metadata": {},
     "output_type": "execute_result"
    }
   ],
   "source": [
    "import numpy as numpy\n",
    "import pandas as pandas\n",
    "from tqdm import tqdm\n",
    "\n",
    "numpy.random.seed(123)\n",
    "\n",
    "# Parameters\n",
    "m = 100\n",
    "sim = 10000\n",
    "n = 5\n",
    "exp_w = (n * (n + m + 1)) / 2\n",
    "stdev_w = numpy.sqrt(n * m * (n + m + 1) / 12)\n",
    "L_SSGR = 3\n",
    "# df = 5\n",
    "# df = 20\n",
    "# shape_param = 1  # Shape parameter for the gamma distribution\n",
    "shape_param = 15  # Shape parameter for the gamma distribution\n",
    "scale_param = 1  # Scale parameter for the gamma distribution\n",
    "\n",
    "# Delta values\n",
    "deltas = numpy.arange(0, 3.25, 0.25)\n",
    "\n",
    "# Parameters for lambda and Le\n",
    "lambda_values = [0.05, 0.5]\n",
    "Le_values = [2.2199, 1.84]\n",
    "\n",
    "# DataFrame to store results\n",
    "results = pandas.DataFrame(columns=['Delta', 'ARL (0.05)', 'SDRL (0.05)', 'MDRL (0.05)', 'ARL (0.5)', 'SDRL (0.5)', 'MDRL (0.5)'])\n",
    "\n",
    "for lambda_, Le in zip(lambda_values, Le_values):\n",
    "    # Control Limits\n",
    "    LCL = exp_w - Le * stdev_w * numpy.sqrt(lambda_ / (2 - lambda_))\n",
    "    UCL = exp_w + Le * stdev_w * numpy.sqrt(lambda_ / (2 - lambda_))\n",
    "    \n",
    "    arl_column = f'ARL ({lambda_})'\n",
    "    sdrl_column = f'SDRL ({lambda_})'\n",
    "    mdrl_column = f'MDRL ({lambda_})'\n",
    "    \n",
    "    for delta in deltas:\n",
    "        print(f\"Delta: {delta}, Lambda: {lambda_}\")\n",
    "        high_run_lengths = []\n",
    "        low_run_lengths = []\n",
    "        previous_high_run_length = None\n",
    "        previous_low_run_length = None\n",
    "        total_runs = []\n",
    "        \n",
    "        for i in tqdm(range(sim)):\n",
    "            zi_1 = exp_w  # Phase I mean as starting EWMA value\n",
    "            \n",
    "            # Phase I data (Gamma distribution standardized to zero mean and unit variance)\n",
    "            # xi = numpy.random.normal(0, 1, m)  # Phase I data Normal\n",
    "            # xi = numpy.random.standard_t(df, m)  # Phase I data t\n",
    "            xi = numpy.random.gamma(shape_param, scale_param, m)  # Phase I data Gamma\n",
    "            xi = (xi - shape_param) / numpy.sqrt(shape_param)\n",
    "            \n",
    "            high_count = 0\n",
    "            low_count = 0\n",
    "            signaled = False\n",
    "            total_run = 0\n",
    "            \n",
    "            while not signaled:\n",
    "                high_count += 1\n",
    "                low_count += 1\n",
    "                total_run += 1\n",
    "                \n",
    "                # Phase II data (Gamma distribution standardized and shifted by delta)\n",
    "                # yi = numpy.random.normal(delta, 1, n)  # Phase II data\n",
    "                # yi = numpy.random.standard_t(df, n) + delta  # Phase II data t\n",
    "                y1 = numpy.random.gamma(shape_param, scale_param, n)  # Phase II data Gamma\n",
    "                yi = (y1 - shape_param) / numpy.sqrt(shape_param) + delta\n",
    "                \n",
    "                comb = numpy.concatenate((xi, yi))\n",
    "                ranks = numpy.argsort(numpy.argsort(comb)) + 1  # Rank calculation\n",
    "                W = ranks[-n:].sum()  # Sum of ranks for new sample\n",
    "    \n",
    "                # Calculate W-EWMA\n",
    "                zi = lambda_ * W + (1 - lambda_) * zi_1\n",
    "                zi_1 = zi\n",
    "                \n",
    "                # Check control limits and evaluate run length\n",
    "                if zi >= UCL:\n",
    "                    if previous_high_run_length is None:\n",
    "                        # Check if the first nonconforming group is below the threshold\n",
    "                        if high_count <= L_SSGR:\n",
    "                            high_run_lengths.append(high_count)\n",
    "                            total_runs.append(total_run)\n",
    "                            signaled = True\n",
    "                    elif previous_high_run_length <= L_SSGR and high_count <= L_SSGR:\n",
    "                        high_run_lengths.append(high_count)\n",
    "                        total_runs.append(total_run)\n",
    "                        signaled = True\n",
    "    \n",
    "                    previous_high_run_length = high_count\n",
    "                    high_count = 0  # Reset count after nonconforming group and no signal\n",
    "    \n",
    "                if zi <= LCL:\n",
    "                    if previous_low_run_length is None:\n",
    "                        # Check if the first nonconforming group is below the threshold\n",
    "                        if low_count <= L_SSGR:\n",
    "                            low_run_lengths.append(low_count)\n",
    "                            total_runs.append(total_run)\n",
    "                            signaled = True\n",
    "                    elif previous_low_run_length <= L_SSGR and low_count <= L_SSGR:\n",
    "                        low_run_lengths.append(low_count)\n",
    "                        total_runs.append(total_run)\n",
    "                        signaled = True\n",
    "    \n",
    "                    previous_low_run_length = low_count\n",
    "                    low_count = 0  # Reset count after nonconforming group and no signal\n",
    "    \n",
    "        run_lengths = numpy.array(total_runs)\n",
    "        ARL = run_lengths.mean()\n",
    "        SDRL = run_lengths.std()\n",
    "        MDRL = numpy.percentile(run_lengths, 50)\n",
    "        \n",
    "        # Store results\n",
    "        if delta in results['Delta'].values:\n",
    "            results.loc[results['Delta'] == delta, arl_column] = ARL\n",
    "            results.loc[results['Delta'] == delta, sdrl_column] = SDRL\n",
    "            results.loc[results['Delta'] == delta, mdrl_column] = MDRL\n",
    "        else:\n",
    "            new_row = pandas.DataFrame({'Delta': [delta], arl_column: [ARL], sdrl_column: [SDRL], mdrl_column: [MDRL]})\n",
    "            results = pandas.concat([results, new_row], ignore_index=True)\n",
    "\n",
    "# Format the columns as (ARL_0.05, ARL_0.5)\n",
    "results['ARL'] = results.apply(lambda row: f\"({row['ARL (0.05)']:.2f}, {row['ARL (0.5)']:.2f})\", axis=1)\n",
    "results = results[['Delta', 'ARL']]\n",
    "\n",
    "\n",
    "results\n"
   ]
  },
  {
   "cell_type": "code",
   "execution_count": null,
   "metadata": {},
   "outputs": [],
   "source": []
  }
 ],
 "metadata": {
  "kernelspec": {
   "display_name": "base",
   "language": "python",
   "name": "python3"
  },
  "language_info": {
   "codemirror_mode": {
    "name": "ipython",
    "version": 3
   },
   "file_extension": ".py",
   "mimetype": "text/x-python",
   "name": "python",
   "nbconvert_exporter": "python",
   "pygments_lexer": "ipython3",
   "version": "3.11.5"
  }
 },
 "nbformat": 4,
 "nbformat_minor": 2
}
