{
 "cells": [
  {
   "cell_type": "code",
   "execution_count": 1,
   "metadata": {},
   "outputs": [],
   "source": [
    "import random\n",
    "\n",
    "random.seed(123)"
   ]
  },
  {
   "cell_type": "markdown",
   "metadata": {},
   "source": [
    "# Normal Distribution"
   ]
  },
  {
   "cell_type": "markdown",
   "metadata": {},
   "source": [
    "## IC"
   ]
  },
  {
   "cell_type": "code",
   "execution_count": 10,
   "metadata": {},
   "outputs": [
    {
     "name": "stdout",
     "output_type": "stream",
     "text": [
      "Mean Run Length: 202.6426\n",
      "Standard Deviation: 267.52315612903493\n",
      "5th Percentile: 3.0\n",
      "95th Percentile: 696.0\n",
      "Median: 111.0\n"
     ]
    }
   ],
   "source": [
    "import numpy as np\n",
    "import pandas\n",
    "np.random.seed(123)\n",
    "# Parameters\n",
    "m = 100\n",
    "sim = 10000\n",
    "n = 5\n",
    "exp_w = (n * (n + m + 1)) / 2\n",
    "stdev_w = np.sqrt(n * m * (n + m + 1) / 12)\n",
    "lambda_ = 0.5\n",
    "Le = 2.188\n",
    "L_SSGR =  3\n",
    "\n",
    "# Control Limits\n",
    "LCL = exp_w - Le * stdev_w * np.sqrt(lambda_ / (2 - lambda_))\n",
    "UCL = exp_w + Le * stdev_w * np.sqrt(lambda_ / (2 - lambda_))\n",
    "\n",
    "# Simulating Phase I and Phase II\n",
    "run_lengths = []\n",
    "total_runs = []\n",
    "for i in range(sim):\n",
    "    zi_1 = exp_w  # Phase I mean as starting EWMA value\n",
    "    xi = np.random.normal(0, 1, m)  # Phase I data\n",
    "    count = 0\n",
    "    signaled = False\n",
    "    total_run = 0\n",
    "    while not signaled:\n",
    "        count += 1\n",
    "        total_run += 1\n",
    "        yi = np.random.normal(0, 1, n)  # Phase II data\n",
    "        comb = np.concatenate((xi, yi))\n",
    "        ranks = np.argsort(np.argsort(comb)) + 1  # Rank calculation\n",
    "        W = ranks[-n:].sum()  # Sum of ranks for new sample\n",
    "\n",
    "        # Calculate W-EWMA\n",
    "        zi = lambda_ * W + (1 - lambda_) * zi_1\n",
    "        zi_1 = zi\n",
    "        # Check control limits and evaluate run length\n",
    "        if zi >= UCL or zi <= LCL:\n",
    "            if count <= L_SSGR:\n",
    "                run_lengths.append(count)\n",
    "                total_runs.append(total_run)\n",
    "                signaled = True\n",
    "\n",
    "\n",
    "            count = 0  # Reset count after nonconforming group and no signal\n",
    "\n",
    "run_lengths = np.array(total_runs)\n",
    "print(f\"Mean Run Length: {run_lengths.mean()}\")\n",
    "print(f\"Standard Deviation: {run_lengths.std()}\")\n",
    "print(f\"5th Percentile: {np.percentile(run_lengths, 5)}\")\n",
    "print(f\"95th Percentile: {np.percentile(run_lengths, 95)}\")\n",
    "print(f\"Median: {np.percentile(run_lengths, 50)}\")"
   ]
  },
  {
   "cell_type": "markdown",
   "metadata": {},
   "source": [
    "## OOC"
   ]
  },
  {
   "cell_type": "code",
   "execution_count": 3,
   "metadata": {},
   "outputs": [
    {
     "name": "stdout",
     "output_type": "stream",
     "text": [
      "0.0\n"
     ]
    },
    {
     "name": "stderr",
     "output_type": "stream",
     "text": [
      "  0%|          | 0/10000 [00:00<?, ?it/s]"
     ]
    },
    {
     "name": "stderr",
     "output_type": "stream",
     "text": [
      "100%|██████████| 10000/10000 [01:41<00:00, 98.62it/s]\n"
     ]
    },
    {
     "name": "stdout",
     "output_type": "stream",
     "text": [
      "0.25\n"
     ]
    },
    {
     "name": "stderr",
     "output_type": "stream",
     "text": [
      "100%|██████████| 10000/10000 [00:27<00:00, 363.05it/s]\n"
     ]
    },
    {
     "name": "stdout",
     "output_type": "stream",
     "text": [
      "0.5\n"
     ]
    },
    {
     "name": "stderr",
     "output_type": "stream",
     "text": [
      "  2%|▏         | 199/10000 [00:00<00:03, 2463.75it/s]\n"
     ]
    },
    {
     "ename": "KeyboardInterrupt",
     "evalue": "",
     "output_type": "error",
     "traceback": [
      "\u001b[1;31m---------------------------------------------------------------------------\u001b[0m",
      "\u001b[1;31mKeyboardInterrupt\u001b[0m                         Traceback (most recent call last)",
      "Cell \u001b[1;32mIn[3], line 46\u001b[0m\n\u001b[0;32m     44\u001b[0m count \u001b[38;5;241m+\u001b[39m\u001b[38;5;241m=\u001b[39m \u001b[38;5;241m1\u001b[39m\n\u001b[0;32m     45\u001b[0m total_run \u001b[38;5;241m+\u001b[39m\u001b[38;5;241m=\u001b[39m \u001b[38;5;241m1\u001b[39m\n\u001b[1;32m---> 46\u001b[0m yi \u001b[38;5;241m=\u001b[39m np\u001b[38;5;241m.\u001b[39mrandom\u001b[38;5;241m.\u001b[39mnormal(delta, \u001b[38;5;241m1\u001b[39m, n)  \u001b[38;5;66;03m# Phase II data\u001b[39;00m\n\u001b[0;32m     47\u001b[0m \u001b[38;5;66;03m# yi = np.random.standard_t(df, n) + delta  # Phase II data t\u001b[39;00m\n\u001b[0;32m     48\u001b[0m \u001b[38;5;66;03m# y1 = np.random.gamma(shape_param, scale_param, n)  # Phase II data Gamma\u001b[39;00m\n\u001b[0;32m     49\u001b[0m \u001b[38;5;66;03m# yi = (y1 - shape_param) / np.sqrt(shape_param) + (delta)\u001b[39;00m\n\u001b[0;32m     50\u001b[0m comb \u001b[38;5;241m=\u001b[39m np\u001b[38;5;241m.\u001b[39mconcatenate((xi, yi))\n",
      "\u001b[1;31mKeyboardInterrupt\u001b[0m: "
     ]
    }
   ],
   "source": [
    "import numpy as np\n",
    "import pandas as pd\n",
    "from tqdm import tqdm\n",
    "\n",
    "# Parameters\n",
    "m = 100\n",
    "sim = 10000\n",
    "n = 5\n",
    "exp_w = (n * (n + m + 1)) / 2\n",
    "stdev_w = np.sqrt(n * m * (n + m + 1) / 12)\n",
    "lambda_ = 0.5\n",
    "# Le = 2.345    # For 0.05\n",
    "Le = 2.188      # For 0.5\n",
    "L_SSGR =  3\n",
    "df = 5\n",
    "# df = 20\n",
    "# shape_param = 1  # Shape parameter for the gamma distribution\n",
    "shape_param = 15  # Shape parameter for the gamma distribution\n",
    "scale_param = 1  # Scale parameter for the gamma distribution\n",
    "# Control Limits\n",
    "LCL = exp_w - Le * stdev_w * np.sqrt(lambda_ / (2 - lambda_))\n",
    "UCL = exp_w + Le * stdev_w * np.sqrt(lambda_ / (2 - lambda_))\n",
    "\n",
    "deltas = np.arange(0, 3.25, 0.25)\n",
    "results = pd.DataFrame(columns=['Delta', 'ARL', 'SDRL', 'MDRL'])\n",
    "\n",
    "# Simulating Phase I and Phase II\n",
    "\n",
    "\n",
    "for delta in deltas:\n",
    "    print(delta)\n",
    "    run_lengths = []\n",
    "    total_runs = []\n",
    "    for i in tqdm(range(sim)):\n",
    "        zi_1 = exp_w  # Phase I mean as starting EWMA value\n",
    "        xi = np.random.normal(0, 1, m)  # Phase I data Normal\n",
    "        # xi = np.random.standard_t(df, m)  # Phase I data t\n",
    "        # xi = np.random.gamma(shape_param, scale_param, m)  # Phase I data Gamma\n",
    "        # xi=(xi-shape_param)/np.sqrt(shape_param)\n",
    "        count = 0\n",
    "        signaled = False\n",
    "        total_run = 0\n",
    "        while not signaled:\n",
    "            count += 1\n",
    "            total_run += 1\n",
    "            yi = np.random.normal(delta, 1, n)  # Phase II data\n",
    "            # yi = np.random.standard_t(df, n) + delta  # Phase II data t\n",
    "            # y1 = np.random.gamma(shape_param, scale_param, n)  # Phase II data Gamma\n",
    "            # yi = (y1 - shape_param) / np.sqrt(shape_param) + (delta)\n",
    "            comb = np.concatenate((xi, yi))\n",
    "            ranks = np.argsort(np.argsort(comb)) + 1  # Rank calculation\n",
    "            W = ranks[-n:].sum()  # Sum of ranks for new sample\n",
    "\n",
    "            # Calculate W-EWMA\n",
    "            zi = lambda_ * W + (1 - lambda_) * zi_1\n",
    "            zi_1 = zi\n",
    "            # Check control limits and evaluate run length\n",
    "            if zi >= UCL or zi <= LCL:\n",
    "                if count <= L_SSGR:\n",
    "                    # run_lengths.append(count)\n",
    "                    total_runs.append(total_run)\n",
    "                    signaled = True\n",
    "\n",
    "\n",
    "                count = 0  # Reset count after nonconforming group and no signal\n",
    "\n",
    "    run_lengths = np.array(total_runs)\n",
    "    ARL = run_lengths.mean()\n",
    "    SDRL = run_lengths.std()\n",
    "    MDRL = np.percentile(run_lengths, 50)\n",
    "\n",
    "    # Append to results\n",
    "    results_row = pd.DataFrame({'Delta': [delta], 'ARL': [ARL], 'SDRL': [SDRL], 'MDRL': [MDRL]})\n",
    "    results = pd.concat([results, results_row], ignore_index=True)\n",
    "    \n",
    "results\n"
   ]
  },
  {
   "cell_type": "code",
   "execution_count": 4,
   "metadata": {},
   "outputs": [
    {
     "data": {
      "text/html": [
       "<div>\n",
       "<style scoped>\n",
       "    .dataframe tbody tr th:only-of-type {\n",
       "        vertical-align: middle;\n",
       "    }\n",
       "\n",
       "    .dataframe tbody tr th {\n",
       "        vertical-align: top;\n",
       "    }\n",
       "\n",
       "    .dataframe thead th {\n",
       "        text-align: right;\n",
       "    }\n",
       "</style>\n",
       "<table border=\"1\" class=\"dataframe\">\n",
       "  <thead>\n",
       "    <tr style=\"text-align: right;\">\n",
       "      <th></th>\n",
       "      <th>Delta</th>\n",
       "      <th>ARL</th>\n",
       "      <th>SDRL</th>\n",
       "      <th>MDRL</th>\n",
       "    </tr>\n",
       "  </thead>\n",
       "  <tbody>\n",
       "    <tr>\n",
       "      <th>0</th>\n",
       "      <td>0.00</td>\n",
       "      <td>382.7555</td>\n",
       "      <td>533.532963</td>\n",
       "      <td>204.0</td>\n",
       "    </tr>\n",
       "    <tr>\n",
       "      <th>1</th>\n",
       "      <td>0.25</td>\n",
       "      <td>103.7278</td>\n",
       "      <td>208.616165</td>\n",
       "      <td>38.0</td>\n",
       "    </tr>\n",
       "  </tbody>\n",
       "</table>\n",
       "</div>"
      ],
      "text/plain": [
       "   Delta       ARL        SDRL   MDRL\n",
       "0   0.00  382.7555  533.532963  204.0\n",
       "1   0.25  103.7278  208.616165   38.0"
      ]
     },
     "execution_count": 4,
     "metadata": {},
     "output_type": "execute_result"
    }
   ],
   "source": [
    "results"
   ]
  },
  {
   "cell_type": "markdown",
   "metadata": {},
   "source": [
    "# Multiple Comparison"
   ]
  },
  {
   "cell_type": "code",
   "execution_count": 4,
   "metadata": {},
   "outputs": [
    {
     "name": "stdout",
     "output_type": "stream",
     "text": [
      "0.0\n"
     ]
    },
    {
     "name": "stderr",
     "output_type": "stream",
     "text": [
      "100%|██████████| 10000/10000 [01:12<00:00, 137.46it/s]\n"
     ]
    },
    {
     "name": "stdout",
     "output_type": "stream",
     "text": [
      "0.25\n"
     ]
    },
    {
     "name": "stderr",
     "output_type": "stream",
     "text": [
      "100%|██████████| 10000/10000 [00:06<00:00, 1546.17it/s]\n"
     ]
    },
    {
     "name": "stdout",
     "output_type": "stream",
     "text": [
      "0.5\n"
     ]
    },
    {
     "name": "stderr",
     "output_type": "stream",
     "text": [
      "100%|██████████| 10000/10000 [00:02<00:00, 3508.52it/s]\n"
     ]
    },
    {
     "name": "stdout",
     "output_type": "stream",
     "text": [
      "0.75\n"
     ]
    },
    {
     "name": "stderr",
     "output_type": "stream",
     "text": [
      "100%|██████████| 10000/10000 [00:02<00:00, 4507.60it/s]\n"
     ]
    },
    {
     "name": "stdout",
     "output_type": "stream",
     "text": [
      "1.0\n"
     ]
    },
    {
     "name": "stderr",
     "output_type": "stream",
     "text": [
      "100%|██████████| 10000/10000 [00:01<00:00, 5533.49it/s]\n"
     ]
    },
    {
     "name": "stdout",
     "output_type": "stream",
     "text": [
      "1.25\n"
     ]
    },
    {
     "name": "stderr",
     "output_type": "stream",
     "text": [
      "100%|██████████| 10000/10000 [00:01<00:00, 6585.71it/s]\n"
     ]
    },
    {
     "name": "stdout",
     "output_type": "stream",
     "text": [
      "1.5\n"
     ]
    },
    {
     "name": "stderr",
     "output_type": "stream",
     "text": [
      "100%|██████████| 10000/10000 [00:01<00:00, 7962.61it/s]\n"
     ]
    },
    {
     "name": "stdout",
     "output_type": "stream",
     "text": [
      "1.75\n"
     ]
    },
    {
     "name": "stderr",
     "output_type": "stream",
     "text": [
      "100%|██████████| 10000/10000 [00:01<00:00, 8338.52it/s]\n"
     ]
    },
    {
     "name": "stdout",
     "output_type": "stream",
     "text": [
      "2.0\n"
     ]
    },
    {
     "name": "stderr",
     "output_type": "stream",
     "text": [
      "100%|██████████| 10000/10000 [00:01<00:00, 8912.45it/s]\n"
     ]
    },
    {
     "name": "stdout",
     "output_type": "stream",
     "text": [
      "2.25\n"
     ]
    },
    {
     "name": "stderr",
     "output_type": "stream",
     "text": [
      "100%|██████████| 10000/10000 [00:01<00:00, 8252.01it/s]\n"
     ]
    },
    {
     "name": "stdout",
     "output_type": "stream",
     "text": [
      "2.5\n"
     ]
    },
    {
     "name": "stderr",
     "output_type": "stream",
     "text": [
      "100%|██████████| 10000/10000 [00:01<00:00, 8962.52it/s]\n"
     ]
    },
    {
     "name": "stdout",
     "output_type": "stream",
     "text": [
      "2.75\n"
     ]
    },
    {
     "name": "stderr",
     "output_type": "stream",
     "text": [
      "100%|██████████| 10000/10000 [00:01<00:00, 8587.47it/s]\n"
     ]
    },
    {
     "name": "stdout",
     "output_type": "stream",
     "text": [
      "3.0\n"
     ]
    },
    {
     "name": "stderr",
     "output_type": "stream",
     "text": [
      "100%|██████████| 10000/10000 [00:01<00:00, 8548.33it/s]\n"
     ]
    },
    {
     "name": "stdout",
     "output_type": "stream",
     "text": [
      "0.0\n"
     ]
    },
    {
     "name": "stderr",
     "output_type": "stream",
     "text": [
      "100%|██████████| 10000/10000 [01:15<00:00, 132.53it/s]\n"
     ]
    },
    {
     "name": "stdout",
     "output_type": "stream",
     "text": [
      "0.25\n"
     ]
    },
    {
     "name": "stderr",
     "output_type": "stream",
     "text": [
      "100%|██████████| 10000/10000 [00:17<00:00, 584.59it/s]\n"
     ]
    },
    {
     "name": "stdout",
     "output_type": "stream",
     "text": [
      "0.5\n"
     ]
    },
    {
     "name": "stderr",
     "output_type": "stream",
     "text": [
      "100%|██████████| 10000/10000 [00:01<00:00, 5068.93it/s]\n"
     ]
    },
    {
     "name": "stdout",
     "output_type": "stream",
     "text": [
      "0.75\n"
     ]
    },
    {
     "name": "stderr",
     "output_type": "stream",
     "text": [
      "100%|██████████| 10000/10000 [00:01<00:00, 9399.67it/s]\n"
     ]
    },
    {
     "name": "stdout",
     "output_type": "stream",
     "text": [
      "1.0\n"
     ]
    },
    {
     "name": "stderr",
     "output_type": "stream",
     "text": [
      "100%|██████████| 10000/10000 [00:00<00:00, 13351.13it/s]\n"
     ]
    },
    {
     "name": "stdout",
     "output_type": "stream",
     "text": [
      "1.25\n"
     ]
    },
    {
     "name": "stderr",
     "output_type": "stream",
     "text": [
      "100%|██████████| 10000/10000 [00:00<00:00, 16197.24it/s]\n"
     ]
    },
    {
     "name": "stdout",
     "output_type": "stream",
     "text": [
      "1.5\n"
     ]
    },
    {
     "name": "stderr",
     "output_type": "stream",
     "text": [
      "100%|██████████| 10000/10000 [00:00<00:00, 15868.43it/s]\n"
     ]
    },
    {
     "name": "stdout",
     "output_type": "stream",
     "text": [
      "1.75\n"
     ]
    },
    {
     "name": "stderr",
     "output_type": "stream",
     "text": [
      "100%|██████████| 10000/10000 [00:00<00:00, 19891.63it/s]\n"
     ]
    },
    {
     "name": "stdout",
     "output_type": "stream",
     "text": [
      "2.0\n"
     ]
    },
    {
     "name": "stderr",
     "output_type": "stream",
     "text": [
      "100%|██████████| 10000/10000 [00:00<00:00, 20177.72it/s]\n"
     ]
    },
    {
     "name": "stdout",
     "output_type": "stream",
     "text": [
      "2.25\n"
     ]
    },
    {
     "name": "stderr",
     "output_type": "stream",
     "text": [
      "100%|██████████| 10000/10000 [00:00<00:00, 20040.99it/s]\n"
     ]
    },
    {
     "name": "stdout",
     "output_type": "stream",
     "text": [
      "2.5\n"
     ]
    },
    {
     "name": "stderr",
     "output_type": "stream",
     "text": [
      "100%|██████████| 10000/10000 [00:00<00:00, 17309.68it/s]\n"
     ]
    },
    {
     "name": "stdout",
     "output_type": "stream",
     "text": [
      "2.75\n"
     ]
    },
    {
     "name": "stderr",
     "output_type": "stream",
     "text": [
      "100%|██████████| 10000/10000 [00:00<00:00, 20286.98it/s]\n"
     ]
    },
    {
     "name": "stdout",
     "output_type": "stream",
     "text": [
      "3.0\n"
     ]
    },
    {
     "name": "stderr",
     "output_type": "stream",
     "text": [
      "100%|██████████| 10000/10000 [00:00<00:00, 18837.43it/s]\n"
     ]
    },
    {
     "data": {
      "text/html": [
       "<div>\n",
       "<style scoped>\n",
       "    .dataframe tbody tr th:only-of-type {\n",
       "        vertical-align: middle;\n",
       "    }\n",
       "\n",
       "    .dataframe tbody tr th {\n",
       "        vertical-align: top;\n",
       "    }\n",
       "\n",
       "    .dataframe thead th {\n",
       "        text-align: right;\n",
       "    }\n",
       "</style>\n",
       "<table border=\"1\" class=\"dataframe\">\n",
       "  <thead>\n",
       "    <tr style=\"text-align: right;\">\n",
       "      <th></th>\n",
       "      <th>Delta</th>\n",
       "      <th>ARL</th>\n",
       "    </tr>\n",
       "  </thead>\n",
       "  <tbody>\n",
       "    <tr>\n",
       "      <th>0</th>\n",
       "      <td>0.00</td>\n",
       "      <td>(208.28, 202.29)</td>\n",
       "    </tr>\n",
       "    <tr>\n",
       "      <th>1</th>\n",
       "      <td>0.25</td>\n",
       "      <td>(19.11, 42.94)</td>\n",
       "    </tr>\n",
       "    <tr>\n",
       "      <th>2</th>\n",
       "      <td>0.50</td>\n",
       "      <td>(7.57, 5.11)</td>\n",
       "    </tr>\n",
       "    <tr>\n",
       "      <th>3</th>\n",
       "      <td>0.75</td>\n",
       "      <td>(5.66, 2.27)</td>\n",
       "    </tr>\n",
       "    <tr>\n",
       "      <th>4</th>\n",
       "      <td>1.00</td>\n",
       "      <td>(4.70, 1.66)</td>\n",
       "    </tr>\n",
       "    <tr>\n",
       "      <th>5</th>\n",
       "      <td>1.25</td>\n",
       "      <td>(3.81, 1.31)</td>\n",
       "    </tr>\n",
       "    <tr>\n",
       "      <th>6</th>\n",
       "      <td>1.50</td>\n",
       "      <td>(3.21, 1.09)</td>\n",
       "    </tr>\n",
       "    <tr>\n",
       "      <th>7</th>\n",
       "      <td>1.75</td>\n",
       "      <td>(3.03, 1.02)</td>\n",
       "    </tr>\n",
       "    <tr>\n",
       "      <th>8</th>\n",
       "      <td>2.00</td>\n",
       "      <td>(3.00, 1.00)</td>\n",
       "    </tr>\n",
       "    <tr>\n",
       "      <th>9</th>\n",
       "      <td>2.25</td>\n",
       "      <td>(3.00, 1.00)</td>\n",
       "    </tr>\n",
       "    <tr>\n",
       "      <th>10</th>\n",
       "      <td>2.50</td>\n",
       "      <td>(3.00, 1.00)</td>\n",
       "    </tr>\n",
       "    <tr>\n",
       "      <th>11</th>\n",
       "      <td>2.75</td>\n",
       "      <td>(3.00, 1.00)</td>\n",
       "    </tr>\n",
       "    <tr>\n",
       "      <th>12</th>\n",
       "      <td>3.00</td>\n",
       "      <td>(3.00, 1.00)</td>\n",
       "    </tr>\n",
       "  </tbody>\n",
       "</table>\n",
       "</div>"
      ],
      "text/plain": [
       "    Delta               ARL\n",
       "0    0.00  (208.28, 202.29)\n",
       "1    0.25    (19.11, 42.94)\n",
       "2    0.50      (7.57, 5.11)\n",
       "3    0.75      (5.66, 2.27)\n",
       "4    1.00      (4.70, 1.66)\n",
       "5    1.25      (3.81, 1.31)\n",
       "6    1.50      (3.21, 1.09)\n",
       "7    1.75      (3.03, 1.02)\n",
       "8    2.00      (3.00, 1.00)\n",
       "9    2.25      (3.00, 1.00)\n",
       "10   2.50      (3.00, 1.00)\n",
       "11   2.75      (3.00, 1.00)\n",
       "12   3.00      (3.00, 1.00)"
      ]
     },
     "execution_count": 4,
     "metadata": {},
     "output_type": "execute_result"
    }
   ],
   "source": [
    "import numpy as np\n",
    "import numpy\n",
    "import pandas as pd\n",
    "from tqdm import tqdm\n",
    "import pandas\n",
    "\n",
    "# Parameters\n",
    "m = 100\n",
    "sim = 10000\n",
    "n = 5\n",
    "exp_w = (n * (n + m + 1)) / 2\n",
    "stdev_w = np.sqrt(n * m * (n + m + 1) / 12)\n",
    "lambda_ = 0.5\n",
    "# Le = 2.345    # For 0.05\n",
    "# Le = 2.188      # For 0.5\n",
    "L_SSGR =  3\n",
    "df = 5\n",
    "# df = 20\n",
    "shape_param = 1  # Shape parameter for the gamma distribution\n",
    "# shape_param = 15  # Shape parameter for the gamma distribution\n",
    "scale_param = 1  # Scale parameter for the gamma distribution\n",
    "\n",
    "lambda_values = [0.05, 0.5]\n",
    "Le_values = [2.345, 2.188]\n",
    "\n",
    "deltas = np.arange(0, 3.25, 0.25)\n",
    "\n",
    "results = pandas.DataFrame(columns=['Delta', 'ARL (0.05)', 'SDRL (0.05)', 'MDRL (0.05)', 'ARL (0.5)', 'SDRL (0.5)', 'MDRL (0.5)'])\n",
    "\n",
    "for lambda_, Le in zip(lambda_values, Le_values):\n",
    "    LCL = exp_w - Le * stdev_w * numpy.sqrt(lambda_ / (2 - lambda_))\n",
    "    UCL = exp_w + Le * stdev_w * numpy.sqrt(lambda_ / (2 - lambda_))\n",
    "    arl_column = f'ARL ({lambda_})'\n",
    "    sdrl_column = f'SDRL ({lambda_})'\n",
    "    mdrl_column = f'MDRL ({lambda_})'\n",
    "\n",
    "    for delta in deltas:\n",
    "        print(delta)\n",
    "        run_lengths = []\n",
    "        total_runs = []\n",
    "        for i in tqdm(range(sim)):\n",
    "            zi_1 = exp_w  # Phase I mean as starting EWMA value\n",
    "            # xi = np.random.normal(0, 1, m)  # Phase I data Normal\n",
    "            # xi = np.random.standard_t(df, m)  # Phase I data t\n",
    "            xi = np.random.gamma(shape_param, scale_param, m)  # Phase I data Gamma\n",
    "            xi=(xi-shape_param)/np.sqrt(shape_param)\n",
    "            count = 0\n",
    "            signaled = False\n",
    "            total_run = 0\n",
    "            while not signaled:\n",
    "                count += 1\n",
    "                total_run += 1\n",
    "                # yi = np.random.normal(delta, 1, n)  # Phase II data\n",
    "                # yi = np.random.standard_t(df, n) + delta  # Phase II data t\n",
    "                y1 = np.random.gamma(shape_param, scale_param, n)  # Phase II data Gamma\n",
    "                yi = (y1 - shape_param) / np.sqrt(shape_param) + (delta)\n",
    "                comb = np.concatenate((xi, yi))\n",
    "                ranks = np.argsort(np.argsort(comb)) + 1  # Rank calculation\n",
    "                W = ranks[-n:].sum()  # Sum of ranks for new sample\n",
    "\n",
    "                # Calculate W-EWMA\n",
    "                zi = lambda_ * W + (1 - lambda_) * zi_1\n",
    "                zi_1 = zi\n",
    "                # Check control limits and evaluate run length\n",
    "                if zi >= UCL or zi <= LCL:\n",
    "                    if count <= L_SSGR:\n",
    "                        # run_lengths.append(count)\n",
    "                        total_runs.append(total_run)\n",
    "                        signaled = True\n",
    "\n",
    "\n",
    "                    count = 0  # Reset count after nonconforming group and no signal\n",
    "\n",
    "        run_lengths = np.array(total_runs)\n",
    "        ARL = run_lengths.mean()\n",
    "        SDRL = run_lengths.std()\n",
    "        MDRL = np.percentile(run_lengths, 50)\n",
    "\n",
    "        if delta in results['Delta'].values:\n",
    "            results.loc[results['Delta'] == delta, arl_column] = ARL\n",
    "            results.loc[results['Delta'] == delta, sdrl_column] = SDRL\n",
    "            results.loc[results['Delta'] == delta, mdrl_column] = MDRL\n",
    "        else:\n",
    "            new_row = pandas.DataFrame({'Delta': [delta], arl_column: [ARL], sdrl_column: [SDRL], mdrl_column: [MDRL]})\n",
    "            results = pandas.concat([results, new_row], ignore_index=True)\n",
    "\n",
    "results['ARL'] = results.apply(lambda row: f\"({row['ARL (0.05)']:.2f}, {row['ARL (0.5)']:.2f})\", axis=1)\n",
    "results = results[['Delta', 'ARL']]\n",
    "\n",
    "results\n"
   ]
  },
  {
   "cell_type": "code",
   "execution_count": null,
   "metadata": {},
   "outputs": [],
   "source": []
  }
 ],
 "metadata": {
  "kernelspec": {
   "display_name": "base",
   "language": "python",
   "name": "python3"
  },
  "language_info": {
   "codemirror_mode": {
    "name": "ipython",
    "version": 3
   },
   "file_extension": ".py",
   "mimetype": "text/x-python",
   "name": "python",
   "nbconvert_exporter": "python",
   "pygments_lexer": "ipython3",
   "version": "3.11.5"
  }
 },
 "nbformat": 4,
 "nbformat_minor": 2
}
