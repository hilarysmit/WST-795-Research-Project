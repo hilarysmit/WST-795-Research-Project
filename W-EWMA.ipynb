{
 "cells": [
  {
   "cell_type": "code",
   "execution_count": 1,
   "metadata": {},
   "outputs": [],
   "source": [
    "import random\n",
    "random.seed(123)"
   ]
  },
  {
   "cell_type": "markdown",
   "metadata": {},
   "source": [
    "# IC Design"
   ]
  },
  {
   "cell_type": "code",
   "execution_count": 6,
   "metadata": {},
   "outputs": [
    {
     "name": "stdout",
     "output_type": "stream",
     "text": [
      "Mean Run Length: 201.2949\n",
      "Standard Deviation: 258.25277294540325\n",
      "5th Percentile: 10.0\n",
      "95th Percentile: 697.0999999999985\n",
      "Median: 115.0\n"
     ]
    }
   ],
   "source": [
    "import numpy as np\n",
    "import pandas\n",
    "np.random.seed(123)\n",
    "# Parameters\n",
    "m = 100\n",
    "sim = 10000\n",
    "n = 5\n",
    "exp_w = (n * (n + m + 1)) / 2\n",
    "stdev_w = np.sqrt(n * m * (n + m + 1) / 12)\n",
    "lambda_ = 0.5\n",
    "Le = 2.695\n",
    "\n",
    "# Control Limits\n",
    "LCL = exp_w - Le * stdev_w * np.sqrt(lambda_ / (2 - lambda_))\n",
    "UCL = exp_w + Le * stdev_w * np.sqrt(lambda_ / (2 - lambda_))\n",
    "\n",
    "# Simulating Phase I and Phase II\n",
    "total_runs = []\n",
    "for i in range(sim):\n",
    "    zi_1 = exp_w  # Phase I mean as starting EWMA value\n",
    "    xi = np.random.normal(0, 1, m)  # Phase I data\n",
    "    count = 0\n",
    "    signaled = False\n",
    "    total_run = 0\n",
    "    while not signaled:\n",
    "        total_run += 1\n",
    "        yi = np.random.normal(0, 1, n)  # Phase II data\n",
    "        comb = np.concatenate((xi, yi))\n",
    "        ranks = np.argsort(np.argsort(comb)) + 1  # Rank calculation\n",
    "        W = ranks[-n:].sum()  # Sum of ranks for new sample\n",
    "\n",
    "        # Calculate W-EWMA\n",
    "        zi = lambda_ * W + (1 - lambda_) * zi_1\n",
    "        zi_1 = zi\n",
    "        # Check control limits and evaluate run length\n",
    "        if zi >= UCL or zi <= LCL:\n",
    "            total_runs.append(total_run)\n",
    "            signaled = True\n",
    "\n",
    "run_lengths = np.array(total_runs)\n",
    "print(f\"Mean Run Length: {run_lengths.mean()}\")\n",
    "print(f\"Standard Deviation: {run_lengths.std()}\")\n",
    "print(f\"5th Percentile: {np.percentile(run_lengths, 5)}\")\n",
    "print(f\"95th Percentile: {np.percentile(run_lengths, 95)}\")\n",
    "print(f\"Median: {np.percentile(run_lengths, 50)}\")\n"
   ]
  },
  {
   "cell_type": "markdown",
   "metadata": {},
   "source": [
    "## OOC"
   ]
  },
  {
   "cell_type": "code",
   "execution_count": 9,
   "metadata": {},
   "outputs": [
    {
     "name": "stdout",
     "output_type": "stream",
     "text": [
      "0.0\n"
     ]
    },
    {
     "name": "stderr",
     "output_type": "stream",
     "text": [
      "100%|██████████| 10000/10000 [01:18<00:00, 127.49it/s]\n"
     ]
    },
    {
     "name": "stdout",
     "output_type": "stream",
     "text": [
      "0.25\n"
     ]
    },
    {
     "name": "stderr",
     "output_type": "stream",
     "text": [
      "100%|██████████| 10000/10000 [00:06<00:00, 1597.52it/s]\n"
     ]
    },
    {
     "name": "stdout",
     "output_type": "stream",
     "text": [
      "0.5\n"
     ]
    },
    {
     "name": "stderr",
     "output_type": "stream",
     "text": [
      "100%|██████████| 10000/10000 [00:02<00:00, 4310.19it/s]\n"
     ]
    },
    {
     "name": "stdout",
     "output_type": "stream",
     "text": [
      "0.75\n"
     ]
    },
    {
     "name": "stderr",
     "output_type": "stream",
     "text": [
      "100%|██████████| 10000/10000 [00:01<00:00, 5718.02it/s]\n"
     ]
    },
    {
     "name": "stdout",
     "output_type": "stream",
     "text": [
      "1.0\n"
     ]
    },
    {
     "name": "stderr",
     "output_type": "stream",
     "text": [
      "100%|██████████| 10000/10000 [00:01<00:00, 7144.39it/s]\n"
     ]
    },
    {
     "name": "stdout",
     "output_type": "stream",
     "text": [
      "1.25\n"
     ]
    },
    {
     "name": "stderr",
     "output_type": "stream",
     "text": [
      "100%|██████████| 10000/10000 [00:01<00:00, 8057.46it/s]\n"
     ]
    },
    {
     "name": "stdout",
     "output_type": "stream",
     "text": [
      "1.5\n"
     ]
    },
    {
     "name": "stderr",
     "output_type": "stream",
     "text": [
      "100%|██████████| 10000/10000 [00:01<00:00, 8471.31it/s]\n"
     ]
    },
    {
     "name": "stdout",
     "output_type": "stream",
     "text": [
      "1.75\n"
     ]
    },
    {
     "name": "stderr",
     "output_type": "stream",
     "text": [
      "100%|██████████| 10000/10000 [00:01<00:00, 9268.90it/s]\n"
     ]
    },
    {
     "name": "stdout",
     "output_type": "stream",
     "text": [
      "2.0\n"
     ]
    },
    {
     "name": "stderr",
     "output_type": "stream",
     "text": [
      "100%|██████████| 10000/10000 [00:01<00:00, 9616.99it/s]\n"
     ]
    },
    {
     "name": "stdout",
     "output_type": "stream",
     "text": [
      "2.25\n"
     ]
    },
    {
     "name": "stderr",
     "output_type": "stream",
     "text": [
      "100%|██████████| 10000/10000 [00:01<00:00, 9435.23it/s]\n"
     ]
    },
    {
     "name": "stdout",
     "output_type": "stream",
     "text": [
      "2.5\n"
     ]
    },
    {
     "name": "stderr",
     "output_type": "stream",
     "text": [
      "100%|██████████| 10000/10000 [00:01<00:00, 8929.12it/s]\n"
     ]
    },
    {
     "name": "stdout",
     "output_type": "stream",
     "text": [
      "2.75\n"
     ]
    },
    {
     "name": "stderr",
     "output_type": "stream",
     "text": [
      "100%|██████████| 10000/10000 [00:01<00:00, 9718.86it/s]\n"
     ]
    },
    {
     "name": "stdout",
     "output_type": "stream",
     "text": [
      "3.0\n"
     ]
    },
    {
     "name": "stderr",
     "output_type": "stream",
     "text": [
      "100%|██████████| 10000/10000 [00:01<00:00, 9661.98it/s]\n"
     ]
    },
    {
     "name": "stdout",
     "output_type": "stream",
     "text": [
      "0.0\n"
     ]
    },
    {
     "name": "stderr",
     "output_type": "stream",
     "text": [
      "100%|██████████| 10000/10000 [01:04<00:00, 154.71it/s]\n"
     ]
    },
    {
     "name": "stdout",
     "output_type": "stream",
     "text": [
      "0.25\n"
     ]
    },
    {
     "name": "stderr",
     "output_type": "stream",
     "text": [
      "100%|██████████| 10000/10000 [00:17<00:00, 586.77it/s]\n"
     ]
    },
    {
     "name": "stdout",
     "output_type": "stream",
     "text": [
      "0.5\n"
     ]
    },
    {
     "name": "stderr",
     "output_type": "stream",
     "text": [
      "100%|██████████| 10000/10000 [00:02<00:00, 3829.04it/s]\n"
     ]
    },
    {
     "name": "stdout",
     "output_type": "stream",
     "text": [
      "0.75\n"
     ]
    },
    {
     "name": "stderr",
     "output_type": "stream",
     "text": [
      "100%|██████████| 10000/10000 [00:01<00:00, 9334.73it/s]\n"
     ]
    },
    {
     "name": "stdout",
     "output_type": "stream",
     "text": [
      "1.0\n"
     ]
    },
    {
     "name": "stderr",
     "output_type": "stream",
     "text": [
      "100%|██████████| 10000/10000 [00:00<00:00, 12048.39it/s]\n"
     ]
    },
    {
     "name": "stdout",
     "output_type": "stream",
     "text": [
      "1.25\n"
     ]
    },
    {
     "name": "stderr",
     "output_type": "stream",
     "text": [
      "100%|██████████| 10000/10000 [00:00<00:00, 12990.00it/s]\n"
     ]
    },
    {
     "name": "stdout",
     "output_type": "stream",
     "text": [
      "1.5\n"
     ]
    },
    {
     "name": "stderr",
     "output_type": "stream",
     "text": [
      "100%|██████████| 10000/10000 [00:00<00:00, 15531.18it/s]\n"
     ]
    },
    {
     "name": "stdout",
     "output_type": "stream",
     "text": [
      "1.75\n"
     ]
    },
    {
     "name": "stderr",
     "output_type": "stream",
     "text": [
      "100%|██████████| 10000/10000 [00:00<00:00, 17817.44it/s]\n"
     ]
    },
    {
     "name": "stdout",
     "output_type": "stream",
     "text": [
      "2.0\n"
     ]
    },
    {
     "name": "stderr",
     "output_type": "stream",
     "text": [
      "100%|██████████| 10000/10000 [00:00<00:00, 20360.78it/s]\n"
     ]
    },
    {
     "name": "stdout",
     "output_type": "stream",
     "text": [
      "2.25\n"
     ]
    },
    {
     "name": "stderr",
     "output_type": "stream",
     "text": [
      "100%|██████████| 10000/10000 [00:00<00:00, 22735.06it/s]\n"
     ]
    },
    {
     "name": "stdout",
     "output_type": "stream",
     "text": [
      "2.5\n"
     ]
    },
    {
     "name": "stderr",
     "output_type": "stream",
     "text": [
      "100%|██████████| 10000/10000 [00:00<00:00, 23648.01it/s]\n"
     ]
    },
    {
     "name": "stdout",
     "output_type": "stream",
     "text": [
      "2.75\n"
     ]
    },
    {
     "name": "stderr",
     "output_type": "stream",
     "text": [
      "100%|██████████| 10000/10000 [00:00<00:00, 21500.23it/s]\n"
     ]
    },
    {
     "name": "stdout",
     "output_type": "stream",
     "text": [
      "3.0\n"
     ]
    },
    {
     "name": "stderr",
     "output_type": "stream",
     "text": [
      "100%|██████████| 10000/10000 [00:00<00:00, 23773.65it/s]\n"
     ]
    },
    {
     "data": {
      "text/html": [
       "<div>\n",
       "<style scoped>\n",
       "    .dataframe tbody tr th:only-of-type {\n",
       "        vertical-align: middle;\n",
       "    }\n",
       "\n",
       "    .dataframe tbody tr th {\n",
       "        vertical-align: top;\n",
       "    }\n",
       "\n",
       "    .dataframe thead th {\n",
       "        text-align: right;\n",
       "    }\n",
       "</style>\n",
       "<table border=\"1\" class=\"dataframe\">\n",
       "  <thead>\n",
       "    <tr style=\"text-align: right;\">\n",
       "      <th></th>\n",
       "      <th>Delta</th>\n",
       "      <th>ARL</th>\n",
       "    </tr>\n",
       "  </thead>\n",
       "  <tbody>\n",
       "    <tr>\n",
       "      <th>0</th>\n",
       "      <td>0.00</td>\n",
       "      <td>(205.72, 201.53)</td>\n",
       "    </tr>\n",
       "    <tr>\n",
       "      <th>1</th>\n",
       "      <td>0.25</td>\n",
       "      <td>(19.26, 52.87)</td>\n",
       "    </tr>\n",
       "    <tr>\n",
       "      <th>2</th>\n",
       "      <td>0.50</td>\n",
       "      <td>(7.03, 7.81)</td>\n",
       "    </tr>\n",
       "    <tr>\n",
       "      <th>3</th>\n",
       "      <td>0.75</td>\n",
       "      <td>(5.02, 3.12)</td>\n",
       "    </tr>\n",
       "    <tr>\n",
       "      <th>4</th>\n",
       "      <td>1.00</td>\n",
       "      <td>(4.16, 2.19)</td>\n",
       "    </tr>\n",
       "    <tr>\n",
       "      <th>5</th>\n",
       "      <td>1.25</td>\n",
       "      <td>(3.70, 1.92)</td>\n",
       "    </tr>\n",
       "    <tr>\n",
       "      <th>6</th>\n",
       "      <td>1.50</td>\n",
       "      <td>(3.29, 1.72)</td>\n",
       "    </tr>\n",
       "    <tr>\n",
       "      <th>7</th>\n",
       "      <td>1.75</td>\n",
       "      <td>(3.07, 1.48)</td>\n",
       "    </tr>\n",
       "    <tr>\n",
       "      <th>8</th>\n",
       "      <td>2.00</td>\n",
       "      <td>(3.01, 1.23)</td>\n",
       "    </tr>\n",
       "    <tr>\n",
       "      <th>9</th>\n",
       "      <td>2.25</td>\n",
       "      <td>(3.00, 1.08)</td>\n",
       "    </tr>\n",
       "    <tr>\n",
       "      <th>10</th>\n",
       "      <td>2.50</td>\n",
       "      <td>(3.00, 1.02)</td>\n",
       "    </tr>\n",
       "    <tr>\n",
       "      <th>11</th>\n",
       "      <td>2.75</td>\n",
       "      <td>(3.00, 1.00)</td>\n",
       "    </tr>\n",
       "    <tr>\n",
       "      <th>12</th>\n",
       "      <td>3.00</td>\n",
       "      <td>(3.00, 1.00)</td>\n",
       "    </tr>\n",
       "  </tbody>\n",
       "</table>\n",
       "</div>"
      ],
      "text/plain": [
       "    Delta               ARL\n",
       "0    0.00  (205.72, 201.53)\n",
       "1    0.25    (19.26, 52.87)\n",
       "2    0.50      (7.03, 7.81)\n",
       "3    0.75      (5.02, 3.12)\n",
       "4    1.00      (4.16, 2.19)\n",
       "5    1.25      (3.70, 1.92)\n",
       "6    1.50      (3.29, 1.72)\n",
       "7    1.75      (3.07, 1.48)\n",
       "8    2.00      (3.01, 1.23)\n",
       "9    2.25      (3.00, 1.08)\n",
       "10   2.50      (3.00, 1.02)\n",
       "11   2.75      (3.00, 1.00)\n",
       "12   3.00      (3.00, 1.00)"
      ]
     },
     "execution_count": 9,
     "metadata": {},
     "output_type": "execute_result"
    }
   ],
   "source": [
    "import numpy as np\n",
    "import pandas as pd\n",
    "import numpy\n",
    "from tqdm import tqdm\n",
    "\n",
    "# Parameters\n",
    "m = 100\n",
    "sim = 10000\n",
    "n = 5\n",
    "exp_w = (n * (n + m + 1)) / 2\n",
    "stdev_w = np.sqrt(n * m * (n + m + 1) / 12)\n",
    "lambda_ = 0.05\n",
    "Le = 2.5     # Lambda = 0.05\n",
    "Le = 2.695   # Lambda = 0.5\n",
    "df = 5\n",
    "# df = 20\n",
    "shape_param = 1  # Shape parameter for the gamma distribution\n",
    "# shape_param = 15  # Shape parameter for the gamma distribution\n",
    "scale_param = 1  # Scale parameter for the gamma distribution\n",
    "\n",
    "lambda_values = [0.05, 0.5]\n",
    "Le_values = [2.5, 2.695]\n",
    "\n",
    "deltas = np.arange(0, 3.25, 0.25)\n",
    "results = pandas.DataFrame(columns=['Delta', 'ARL (0.05)', 'SDRL (0.05)', 'MDRL (0.05)', 'ARL (0.5)', 'SDRL (0.5)', 'MDRL (0.5)'])\n",
    "\n",
    "for lambda_, Le in zip(lambda_values, Le_values):\n",
    "    LCL = exp_w - Le * stdev_w * numpy.sqrt(lambda_ / (2 - lambda_))\n",
    "    UCL = exp_w + Le * stdev_w * numpy.sqrt(lambda_ / (2 - lambda_))\n",
    "    arl_column = f'ARL ({lambda_})'\n",
    "    sdrl_column = f'SDRL ({lambda_})'\n",
    "    mdrl_column = f'MDRL ({lambda_})'\n",
    "    for delta in deltas:\n",
    "        print(delta)\n",
    "        total_runs = []\n",
    "        for i in tqdm(range(sim)):\n",
    "            zi_1 = exp_w  # Phase I mean as starting EWMA value\n",
    "            # xi = np.random.normal(0, 1, m)  # Phase I data Normal\n",
    "            # xi = np.random.standard_t(df, m)  # Phase I data t\n",
    "            xi = np.random.gamma(shape_param, scale_param, m)  # Phase I data Gamma\n",
    "            xi=(xi-shape_param)/np.sqrt(shape_param)\n",
    "            count = 0\n",
    "            signaled = False\n",
    "            total_run = 0\n",
    "            while not signaled:\n",
    "                total_run += 1\n",
    "                # yi = np.random.normal(delta, 1, n)  # Phase II data\n",
    "                # yi = np.random.standard_t(df, n) + delta  # Phase II data t\n",
    "                y1 = np.random.gamma(shape_param, scale_param, n)  # Phase II data Gamma\n",
    "                yi = (y1 - shape_param) / np.sqrt(shape_param) + (delta)\n",
    "                comb = np.concatenate((xi, yi))\n",
    "                ranks = np.argsort(np.argsort(comb)) + 1  # Rank calculation\n",
    "                W = ranks[-n:].sum()  # Sum of ranks for new sample\n",
    "    \n",
    "                # Calculate W-EWMA\n",
    "                zi = lambda_ * W + (1 - lambda_) * zi_1\n",
    "                zi_1 = zi\n",
    "                # Check control limits and evaluate run length\n",
    "                if zi >= UCL or zi <= LCL:\n",
    "                    total_runs.append(total_run)\n",
    "                    signaled = True\n",
    "    \n",
    "        run_lengths = np.array(total_runs)\n",
    "        ARL = run_lengths.mean()\n",
    "        SDRL = run_lengths.std()\n",
    "        MDRL = np.percentile(run_lengths, 50)\n",
    "    \n",
    "        run_lengths = np.array(total_runs)\n",
    "        ARL = run_lengths.mean()\n",
    "        SDRL = run_lengths.std()\n",
    "        MDRL = np.percentile(run_lengths, 50)\n",
    "\n",
    "        if delta in results['Delta'].values:\n",
    "            results.loc[results['Delta'] == delta, arl_column] = ARL\n",
    "            results.loc[results['Delta'] == delta, sdrl_column] = SDRL\n",
    "            results.loc[results['Delta'] == delta, mdrl_column] = MDRL\n",
    "        else:\n",
    "            new_row = pandas.DataFrame({'Delta': [delta], arl_column: [ARL], sdrl_column: [SDRL], mdrl_column: [MDRL]})\n",
    "            results = pandas.concat([results, new_row], ignore_index=True)\n",
    "\n",
    "results['ARL'] = results.apply(lambda row: f\"({row['ARL (0.05)']:.2f}, {row['ARL (0.5)']:.2f})\", axis=1)\n",
    "results = results[['Delta', 'ARL']]\n",
    "    \n",
    "results\n"
   ]
  },
  {
   "cell_type": "code",
   "execution_count": null,
   "metadata": {},
   "outputs": [],
   "source": []
  }
 ],
 "metadata": {
  "kernelspec": {
   "display_name": "base",
   "language": "python",
   "name": "python3"
  },
  "language_info": {
   "codemirror_mode": {
    "name": "ipython",
    "version": 3
   },
   "file_extension": ".py",
   "mimetype": "text/x-python",
   "name": "python",
   "nbconvert_exporter": "python",
   "pygments_lexer": "ipython3",
   "version": "3.11.5"
  }
 },
 "nbformat": 4,
 "nbformat_minor": 2
}
